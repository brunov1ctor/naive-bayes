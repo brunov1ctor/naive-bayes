{
  "nbformat": 4,
  "nbformat_minor": 0,
  "metadata": {
    "colab": {
      "name": "bayes.ipynb",
      "provenance": [],
      "collapsed_sections": []
    },
    "kernelspec": {
      "name": "python3",
      "display_name": "Python 3"
    },
    "language_info": {
      "name": "python"
    }
  },
  "cells": [
    {
      "cell_type": "code",
      "metadata": {
        "colab": {
          "base_uri": "https://localhost:8080/",
          "height": 221
        },
        "id": "wMFpWq5dL1AN",
        "outputId": "d75e179d-a7c0-4506-ec80-6b02b6e8c85e"
      },
      "source": [
        "import random\n",
        "import pandas as pd\n",
        "import numpy as np\n",
        "from sklearn.model_selection import train_test_split\n",
        "from sklearn.metrics import accuracy_score\n",
        "\n",
        "random.seed(42) \n",
        "data = pd.read_csv('sample_data/iris.csv', header=(0))\n",
        "# armazena as classes no vetor classes: setosa, virginica e versicolor\n",
        "classes = pd.unique(data[data.columns[-1]])\n",
        "classes = np.array(classes, dtype=str) \n",
        " \n",
        "print(classes)\n",
        "data.head()"
      ],
      "execution_count": 7,
      "outputs": [
        {
          "output_type": "stream",
          "text": [
            "['setosa' 'versicolor' 'virginica']\n"
          ],
          "name": "stdout"
        },
        {
          "output_type": "execute_result",
          "data": {
            "text/html": [
              "<div>\n",
              "<style scoped>\n",
              "    .dataframe tbody tr th:only-of-type {\n",
              "        vertical-align: middle;\n",
              "    }\n",
              "\n",
              "    .dataframe tbody tr th {\n",
              "        vertical-align: top;\n",
              "    }\n",
              "\n",
              "    .dataframe thead th {\n",
              "        text-align: right;\n",
              "    }\n",
              "</style>\n",
              "<table border=\"1\" class=\"dataframe\">\n",
              "  <thead>\n",
              "    <tr style=\"text-align: right;\">\n",
              "      <th></th>\n",
              "      <th>sepal_length</th>\n",
              "      <th>sepal_width</th>\n",
              "      <th>petal_length</th>\n",
              "      <th>petal_width</th>\n",
              "      <th>species</th>\n",
              "    </tr>\n",
              "  </thead>\n",
              "  <tbody>\n",
              "    <tr>\n",
              "      <th>0</th>\n",
              "      <td>5.1</td>\n",
              "      <td>3.5</td>\n",
              "      <td>1.4</td>\n",
              "      <td>0.2</td>\n",
              "      <td>setosa</td>\n",
              "    </tr>\n",
              "    <tr>\n",
              "      <th>1</th>\n",
              "      <td>4.9</td>\n",
              "      <td>3.0</td>\n",
              "      <td>1.4</td>\n",
              "      <td>0.2</td>\n",
              "      <td>setosa</td>\n",
              "    </tr>\n",
              "    <tr>\n",
              "      <th>2</th>\n",
              "      <td>4.7</td>\n",
              "      <td>3.2</td>\n",
              "      <td>1.3</td>\n",
              "      <td>0.2</td>\n",
              "      <td>setosa</td>\n",
              "    </tr>\n",
              "    <tr>\n",
              "      <th>3</th>\n",
              "      <td>4.6</td>\n",
              "      <td>3.1</td>\n",
              "      <td>1.5</td>\n",
              "      <td>0.2</td>\n",
              "      <td>setosa</td>\n",
              "    </tr>\n",
              "    <tr>\n",
              "      <th>4</th>\n",
              "      <td>5.0</td>\n",
              "      <td>3.6</td>\n",
              "      <td>1.4</td>\n",
              "      <td>0.2</td>\n",
              "      <td>setosa</td>\n",
              "    </tr>\n",
              "  </tbody>\n",
              "</table>\n",
              "</div>"
            ],
            "text/plain": [
              "   sepal_length  sepal_width  petal_length  petal_width species\n",
              "0           5.1          3.5           1.4          0.2  setosa\n",
              "1           4.9          3.0           1.4          0.2  setosa\n",
              "2           4.7          3.2           1.3          0.2  setosa\n",
              "3           4.6          3.1           1.5          0.2  setosa\n",
              "4           5.0          3.6           1.4          0.2  setosa"
            ]
          },
          "metadata": {},
          "execution_count": 7
        }
      ]
    },
    {
      "cell_type": "markdown",
      "metadata": {
        "id": "pw7RXhQI-9q4"
      },
      "source": [
        "$$\n",
        "p(x_j|C_i) = \\frac{1}{\\sqrt{2\\pi\\sigma_{C_i}}}\\exp \\left[ -\\frac{1}{2}\\left( \\frac{x_j-\\mu_{C_i}}{\\sigma_{C_i}}\\right)^2 \\right], \\quad i=1,2,\\ldots, k.\n",
        "$$"
      ]
    },
    {
      "cell_type": "code",
      "metadata": {
        "colab": {
          "base_uri": "https://localhost:8080/",
          "height": 204
        },
        "id": "QaqmJ6Sz8wvQ",
        "outputId": "44be0bef-95ee-4ac9-8437-2289f52af02c"
      },
      "source": [
        "# converte para matrizes do numpy\n",
        "data = data.to_numpy()\n",
        "nrow,ncol = data.shape\n",
        "y = data[:,-1]\n",
        "X = data[:,0:ncol-1]\n",
        "# Seleciona o conjunto de teste e treinamento 70%\n",
        "p = 0.7 \n",
        "X_train, X_test, y_train, y_test = train_test_split(X, y, train_size = p)\n",
        "\n",
        "# funcao para calcular a verossimilhanca\n",
        "def likelyhood(y, Z):\n",
        "    def gaussian(x, mu, sig):\n",
        "        return np.exp(-np.power(x - mu, 2.) / (2 * np.power(sig, 2.)))\n",
        "    prob = 1\n",
        "    for j in np.arange(0, Z.shape[1]):\n",
        "        m = np.mean(Z[:,j])\n",
        "        s = np.std(Z[:,j])      \n",
        "        prob = prob*gaussian(y[j], m, s)\n",
        "    return prob\n",
        "\n",
        "# matriz que armazena o produto da verossimilhanca pela priori\n",
        "P = pd.DataFrame(data=np.zeros((X_test.shape[0], len(classes))), columns = classes) \n",
        "for i in np.arange(0, len(classes)):\n",
        "    elements = tuple(np.where(y_train == classes[i]))\n",
        "    Z = X_train[elements,:][0]\n",
        "    for j in np.arange(0,X_test.shape[0]):\n",
        "        x = X_test[j,:]\n",
        "        pj = likelyhood(x,Z) #verossimilhanca\n",
        "        pc = len(elements)/X_train.shape[0] # priori\n",
        "        P[classes[i]][j] = pj*pc\n",
        "\n",
        "P.head()"
      ],
      "execution_count": 8,
      "outputs": [
        {
          "output_type": "execute_result",
          "data": {
            "text/html": [
              "<div>\n",
              "<style scoped>\n",
              "    .dataframe tbody tr th:only-of-type {\n",
              "        vertical-align: middle;\n",
              "    }\n",
              "\n",
              "    .dataframe tbody tr th {\n",
              "        vertical-align: top;\n",
              "    }\n",
              "\n",
              "    .dataframe thead th {\n",
              "        text-align: right;\n",
              "    }\n",
              "</style>\n",
              "<table border=\"1\" class=\"dataframe\">\n",
              "  <thead>\n",
              "    <tr style=\"text-align: right;\">\n",
              "      <th></th>\n",
              "      <th>setosa</th>\n",
              "      <th>versicolor</th>\n",
              "      <th>virginica</th>\n",
              "    </tr>\n",
              "  </thead>\n",
              "  <tbody>\n",
              "    <tr>\n",
              "      <th>0</th>\n",
              "      <td>1.199159e-04</td>\n",
              "      <td>6.279480e-26</td>\n",
              "      <td>5.390328e-31</td>\n",
              "    </tr>\n",
              "    <tr>\n",
              "      <th>1</th>\n",
              "      <td>9.866856e-101</td>\n",
              "      <td>1.768759e-03</td>\n",
              "      <td>1.295369e-06</td>\n",
              "    </tr>\n",
              "    <tr>\n",
              "      <th>2</th>\n",
              "      <td>1.554848e-04</td>\n",
              "      <td>4.300014e-20</td>\n",
              "      <td>3.876197e-26</td>\n",
              "    </tr>\n",
              "    <tr>\n",
              "      <th>3</th>\n",
              "      <td>4.872271e-43</td>\n",
              "      <td>6.641343e-06</td>\n",
              "      <td>1.131403e-12</td>\n",
              "    </tr>\n",
              "    <tr>\n",
              "      <th>4</th>\n",
              "      <td>3.135998e-187</td>\n",
              "      <td>2.440917e-06</td>\n",
              "      <td>6.375437e-03</td>\n",
              "    </tr>\n",
              "  </tbody>\n",
              "</table>\n",
              "</div>"
            ],
            "text/plain": [
              "          setosa    versicolor     virginica\n",
              "0   1.199159e-04  6.279480e-26  5.390328e-31\n",
              "1  9.866856e-101  1.768759e-03  1.295369e-06\n",
              "2   1.554848e-04  4.300014e-20  3.876197e-26\n",
              "3   4.872271e-43  6.641343e-06  1.131403e-12\n",
              "4  3.135998e-187  2.440917e-06  6.375437e-03"
            ]
          },
          "metadata": {},
          "execution_count": 8
        }
      ]
    },
    {
      "cell_type": "code",
      "metadata": {
        "id": "g8Rt3SAeEHaa",
        "colab": {
          "base_uri": "https://localhost:8080/"
        },
        "outputId": "7934b371-7640-42ff-ba62-13ed6d34e17b"
      },
      "source": [
        "# realiza a classificao seguindo a regra de Bayes\n",
        "y_pred = []\n",
        "for i in np.arange(0, P.shape[0]):\n",
        "    c = np.argmax(np.array(P.iloc[[i]]))\n",
        "    y_pred.append(P.columns[c])\n",
        "y_pred = np.array(y_pred, dtype=str)\n",
        "# calcula a acuracia na classificacao\n",
        "score = accuracy_score(y_pred, y_test)\n",
        "print('Accuracy:', score)"
      ],
      "execution_count": 9,
      "outputs": [
        {
          "output_type": "stream",
          "text": [
            "Accuracy: 0.9555555555555556\n"
          ],
          "name": "stdout"
        }
      ]
    },
    {
      "cell_type": "markdown",
      "metadata": {
        "id": "jT9QxDT6R8ZX"
      },
      "source": [
        "\n",
        "**Região de decisão**\n",
        "Selecionando dois atributos, podemos visualizar a região de decisão. Para graficar a região de separação, precisamos instalar a bibliteca mlxtend: http://rasbt.github.io/mlxtend/installation/\n",
        "Pode ser usado: conda install -c conda-forge mlxtend\n",
        "\n",
        "Para o classificador Naive Bayes:"
      ]
    },
    {
      "cell_type": "code",
      "metadata": {
        "id": "U8O0n6S_RSlY"
      },
      "source": [
        "\n",
        "from mlxtend.plotting import plot_decision_regions\n",
        "import numpy as np\n",
        "import matplotlib.pyplot as plt\n",
        "from sklearn import datasets\n",
        "from sklearn.neighbors import KNeighborsClassifier\n",
        "import sklearn.datasets as skdata\n",
        "from matplotlib import pyplot\n",
        "from pandas import DataFrame\n",
        "\n",
        "# Gera os dados em duas dimensões\n",
        "n_samples = 100 # número de observações\n",
        "# centro dos grupos\n",
        "centers = [(-4, 0), (0, 0), (3, 3)]\n",
        "X, y = skdata.make_blobs(n_samples=100, n_features=2, cluster_std=1.0, centers=centers, \n",
        "                         shuffle=False, random_state=42)\n",
        "\n",
        "# monta a matrix de atributos\n",
        "d = np.column_stack((X,np.transpose(y)))\n",
        "# converte para o formato dataframe do Pandas\n",
        "data = DataFrame(data = d, columns=['X1', 'X2', 'y'])\n",
        "features_names = ['X1', 'X2']\n",
        "class_labels = np.unique(y)"
      ],
      "execution_count": 5,
      "outputs": []
    },
    {
      "cell_type": "code",
      "metadata": {
        "colab": {
          "base_uri": "https://localhost:8080/",
          "height": 599
        },
        "id": "GiLs2xHFRyf3",
        "outputId": "b98ae2ce-0b81-4a5b-dfe4-c9e149269cd4"
      },
      "source": [
        "from mlxtend.plotting import plot_decision_regions\n",
        "import matplotlib.pyplot as plt\n",
        "from sklearn import datasets\n",
        "from sklearn.naive_bayes import GaussianNB\n",
        "\n",
        "\n",
        "# mostra os dados e colori de acordo com as classes\n",
        "colors = ['red', 'blue', 'green', 'black']\n",
        "aux = 0\n",
        "for c in class_labels:\n",
        "    ind = np.where(y == c)\n",
        "    plt.scatter(X[ind,0][0], X[ind,1][0], color = colors[aux], label = c)\n",
        "    aux = aux + 1\n",
        "plt.legend()\n",
        "plt.show()\n",
        "\n",
        "# Training a classifier\n",
        "model = GaussianNB()\n",
        "model.fit(X, y)\n",
        "\n",
        "# Plotting decision regions\n",
        "plot_decision_regions(X, y, clf=model, legend=2)\n",
        "\n",
        "plt.xlabel('X1')\n",
        "plt.ylabel('X2')\n",
        "plt.title('Decision Regions')\n",
        "plt.show()"
      ],
      "execution_count": 6,
      "outputs": [
        {
          "output_type": "display_data",
          "data": {
            "image/png": "[encoded data removed]",
            "text/plain": [
              "<Figure size 432x288 with 1 Axes>"
            ]
          },
          "metadata": {
            "needs_background": "light"
          }
        },
        {
          "output_type": "stream",
          "text": [
            "/usr/local/lib/python3.7/dist-packages/mlxtend/plotting/decision_regions.py:244: MatplotlibDeprecationWarning: Passing unsupported keyword arguments to axis() will raise a TypeError in 3.3.\n",
            "  ax.axis(xmin=xx.min(), xmax=xx.max(), y_min=yy.min(), y_max=yy.max())\n"
          ],
          "name": "stderr"
        },
        {
          "output_type": "display_data",
          "data": {
            "image/png": "[encoded data removed]",
            "text/plain": [
              "<Figure size 432x288 with 1 Axes>"
            ]
          },
          "metadata": {
            "needs_background": "light"
          }
        }
      ]
    }
  ]
}